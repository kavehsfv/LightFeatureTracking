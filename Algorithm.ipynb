{
 "cells": [
  {
   "cell_type": "markdown",
   "metadata": {},
   "source": [
    "## Imports"
   ]
  },
  {
   "cell_type": "code",
   "execution_count": 1,
   "metadata": {},
   "outputs": [],
   "source": [
    "from AlgoFCN import FeatureTracker\n",
    "\n",
    "import torch\n",
    "from torch.utils.data import Dataset, DataLoader\n",
    "from torchvision.io import read_image\n",
    "from torchvision.transforms import ToTensor\n",
    "import pandas as pd\n",
    "from tqdm import tqdm\n",
    "\n",
    "import os\n",
    "import glob\n",
    "import numpy as np\n",
    "import cv2\n",
    "\n",
    "import numpy as np\n",
    "import cv2\n",
    "import matplotlib.pyplot as plt\n",
    "\n",
    "import os\n",
    "import glob\n",
    "import copy\n"
   ]
  },
  {
   "cell_type": "markdown",
   "metadata": {},
   "source": [
    "## Initials"
   ]
  },
  {
   "cell_type": "code",
   "execution_count": null,
   "metadata": {},
   "outputs": [],
   "source": [
    "class LaSOTHorseDataset(Dataset):\n",
    "    def __init__(self, root_dir, transform=None):\n",
    "        \"\"\"\n",
    "        Args:\n",
    "            root_dir (string): Directory with all the images and annotations.\n",
    "            transform (callable, optional): Optional transform to be applied on a sample.\n",
    "        \"\"\"\n",
    "        root_dir = root_dir\n",
    "        self.transform = transform\n",
    "        self.img_dir = os.path.join(root_dir, 'img')\n",
    "        self.bbox_file = os.path.join(root_dir, 'groundtruth.txt')\n",
    "        self.occlusion_file = os.path.join(root_dir, 'full_occlusion.txt')\n",
    "        self.out_of_view_file = os.path.join(root_dir, 'out_of_view.txt')\n",
    "\n",
    "        # Load annotations\n",
    "        self.bboxes = pd.read_csv(self.bbox_file, header=None)\n",
    "        self.occlusions = pd.read_csv(self.occlusion_file, header=None).iloc[0]\n",
    "        self.out_of_views = pd.read_csv(self.out_of_view_file, header=None).iloc[0]\n",
    "\n",
    "    def __len__(self):\n",
    "        return len(self.bboxes)\n",
    "\n",
    "    def __getitem__(self, idx):\n",
    "        img_path = os.path.join(self.img_dir, f'{idx+1:08d}.jpg')\n",
    "        bbox = self.bboxes.iloc[idx].values\n",
    "        occlusion = self.occlusions[idx]\n",
    "        out_of_view = self.out_of_views[idx]\n",
    "\n",
    "        sample = {'image_path': img_path, 'bbox': bbox, 'occlusion': occlusion, 'out_of_view': out_of_view}\n",
    "\n",
    "        if self.transform:\n",
    "            sample = self.transform(sample)\n",
    "\n",
    "        return sample\n",
    "\n",
    "# Example transform that converts images to tensor\n",
    "class ToTensorTransform:\n",
    "    def __call__(self, sample):\n",
    "        return sample"
   ]
  },
  {
   "cell_type": "code",
   "execution_count": null,
   "metadata": {},
   "outputs": [],
   "source": [
    "tracker = FeatureTracker()\n",
    "# Example of using the dataset with DataLoader\n",
    "horse_dataset = LaSOTHorseDataset(root_dir='/usr/mvl2/ksgh2/Documents/projects/VOT/Datasets/data/lasot/horse/horse-15',\n",
    "                                   transform=ToTensorTransform())\n",
    "# dataloader = DataLoader(horse_dataset, batch_size=1, shuffle= False)\n",
    "dataloader = DataLoader(horse_dataset, batch_size=1, shuffle=False)\n",
    "print(len(dataloader))\n",
    "\n",
    "plottingFrames = []\n",
    "\n",
    "for i, item in enumerate(dataloader):\n",
    "    imagePath = item['image_path'][0]\n",
    "    bbox = item['bbox'][0]\n",
    "    occlusion = item['occlusion'][0]\n",
    "    outOfView = item['out_of_view'][0]\n",
    "\n",
    "    desRec = [bbox[0], bbox[1], bbox[0] + bbox[2], bbox[1] + bbox[3]]\n",
    "    desRec = [x.item() for x in desRec]\n",
    "    isOnline = False\n",
    "    __cpTracks, __kpMvmt, image_cv2 = tracker.process_frame(imagePath, i, desRec, isOnline)\n",
    "    cvFrame = tracker.update_cvFrame(__cpTracks, image_cv2, i, desRec, _isOnline = False, pltTrackLines = True)\n",
    "\n",
    "    plottingFrames.append(cvFrame)\n",
    "\n",
    "    # if (not occlusion) or (not outOfView): \n",
    "    #     pass\n",
    "\n",
    "    # print(f\"Item {i+1}\")\n",
    "    # print(imagePath, bbox, occlusion, outOfView)\n",
    "\n",
    "    # image = read_image(imagePath).permute(1, 2, 0) / 255  # Convert the image to the [0, 1] range\n",
    "\n",
    "    # fig, ax = plt.subplots()\n",
    "    # ax.imshow(image)\n",
    "    # # rect = patches.Rectangle((bbox[0], bbox[1]), bbox[2] - bbox[0], bbox[3] - bbox[1], linewidth=1, edgecolor='r', facecolor='none')\n",
    "    # rect = patches.Rectangle((bbox[0], bbox[1]), bbox[2], bbox[3], linewidth=1, edgecolor='r', facecolor='none')\n",
    "\n",
    "    # ax.add_patch(rect)\n",
    "    # plt.show()\n",
    "\n",
    "    # Break after first batch just for demonstration\n",
    "    if i > 20:\n",
    "        break"
   ]
  },
  {
   "cell_type": "code",
   "execution_count": null,
   "metadata": {},
   "outputs": [],
   "source": [
    "address = '/usr/mvl2/ksgh2/Documents/projects/VOT/Datasets/data/CNT_Growth_RK/exp1_gf_clahe'\n",
    "files314_pathes = glob.glob(address +  '/* 314 -*.tif')\n"
   ]
  },
  {
   "cell_type": "markdown",
   "metadata": {},
   "source": [
    "### Algorithm Functions"
   ]
  },
  {
   "cell_type": "code",
   "execution_count": null,
   "metadata": {},
   "outputs": [],
   "source": [
    "tracker = FeatureTracker(ftExtractor = 'aliked', mx_keypoints = 1024, desired_device = 0)\n",
    "\n",
    "plottingFrames = []\n",
    "gr_exp_1_314 = []\n",
    "\n",
    "\n",
    "for i, imagePath in tqdm(enumerate(files314_pathes)):\n",
    "    # Get the base name of the file\n",
    "    basename = os.path.basename(imagePath)\n",
    "    # Remove 'exp1_gf_clahe/' from the beginning of the name\n",
    "    orginal_name = basename.replace('gf_clh_', '')\n",
    "\n",
    "    if i < 0:\n",
    "        gr_exp_1_314.append((orginal_name, -1))\n",
    "    elif i < 10:\n",
    "        idx = i - 0\n",
    "        desRec = [0, 0, 1024, 500]\n",
    "        isOnline = False\n",
    "        __cpTracks, __kpMvmt, image_cv2, _frmTracks = tracker.process_frame(imagePath, idx, desRec, isOnline)\n",
    "        # First, filter out tracks with less than 3 keypoints to avoid modifying the dictionary during iteration\n",
    "        # __cpTracks = {key: value for key, value in __cpTracks.items() if len(value) >= 3}\n",
    "\n",
    "        # # Create a dictionary that maps track IDs to colors\n",
    "\n",
    "        cvFrame = tracker.update_cvFrame(__cpTracks, image_cv2, _frmTracks, desRec, _isOnline = False)\n",
    "        plottingFrames.append(cvFrame)\n",
    "\n",
    "        nmGrowthrate = 0\n",
    "        if __kpMvmt > 0:\n",
    "            nmGrowthrate = np.log(__kpMvmt * 5) # conversion to nm and log scale 400px = 2um -> 1 px = 2um/400px = 5nm/px\n",
    "        gr_exp_1_314.append((orginal_name, nmGrowthrate))\n",
    "    if i >= 1350:\n",
    "        gr_exp_1_314.append((orginal_name, -1))\n",
    "    \n",
    "\n",
    "\n",
    "    "
   ]
  },
  {
   "cell_type": "code",
   "execution_count": null,
   "metadata": {},
   "outputs": [],
   "source": [
    "fourcc = cv2.VideoWriter_fourcc(*'mp4v')  # Use 'mp4v' for .mp4 format\n",
    "\n",
    "# Use the shape of the first image to get the frame size (width, height)\n",
    "frame_size = (plottingFrames[0].shape[1], plottingFrames[0].shape[0])\n",
    "\n",
    "# Create a VideoWriter object. Adjust FPS to your liking.\n",
    "out = cv2.VideoWriter('clahe_output_video.mp4', fourcc, 1.0, frame_size)\n",
    "\n",
    "for i in range(len(plottingFrames)):\n",
    "    # Write the frame to the video\n",
    "    out.write(plottingFrames[i])\n",
    "\n",
    "# Release everything when job is finished\n",
    "out.release()\n",
    "\n",
    "# Optionally, display a message\n",
    "print(\"The video was successfully saved!\")"
   ]
  },
  {
   "cell_type": "markdown",
   "metadata": {},
   "source": [
    "### Run the code\n"
   ]
  },
  {
   "cell_type": "code",
   "execution_count": null,
   "metadata": {},
   "outputs": [],
   "source": [
    "import numpy as np\n",
    "import matplotlib.pyplot as plt\n",
    "from mpl_toolkits.mplot3d import Axes3D\n",
    "\n",
    "# Example: Generate some synthetic data for demonstration\n",
    "# Let's assume these are your boundary features for each slice\n",
    "x = np.linspace(-1, 1, 100)\n",
    "y = np.linspace(-1, 1, 100)\n",
    "X, Y = np.meshgrid(x, y)\n",
    "Z = np.sin(np.sqrt(X**2 + Y**2))\n",
    "\n",
    "fig = plt.figure()\n",
    "ax = fig.add_subplot(111, projection='3d')\n",
    "\n",
    "# Plotting each slice\n",
    "# In a real scenario, you would loop through your slices\n",
    "ax.contour3D(X, Y, Z, 50)\n",
    "\n",
    "plt.show()"
   ]
  },
  {
   "cell_type": "markdown",
   "metadata": {},
   "source": [
    "### Receptor Tracking"
   ]
  },
  {
   "cell_type": "code",
   "execution_count": 2,
   "metadata": {},
   "outputs": [
    {
     "name": "stderr",
     "output_type": "stream",
     "text": [
      "499it [12:18,  1.48s/it]\n"
     ]
    }
   ],
   "source": [
    "# address = '/usr/mvl2/ksgh2/Documents/projects/VOT/Datasets/data/RECEPTOR/RECEPTOR snr 7 density high/'\n",
    "# address = 'exp2_gf_clahe/'\n",
    "# image_paths = glob.glob(address +  '*.tif')\n",
    "address = '/usr/mvl2/ksgh2/Documents/projects/VOT/Datasets/data/CNT_Growth_RK/exp3_gf_clahe/'\n",
    "\n",
    "image_pathes = glob.glob(address +  'gf_clh_FS30363_6 (Channel 1) 323*.tif')\n",
    "image_pathes = image_pathes[0:499] # 800\n",
    "tracker = FeatureTracker(ftExtractor = 'aliked', mx_keypoints = 1024, desired_device = 3)\n",
    "kp_lent_ornt_deltaXY_dic = {}\n",
    "plottingFrames = []\n",
    "desRec = [0, 0, 1024, 450]\n",
    "growthTracks = {}\n",
    "frameGrowthingTracksList = {}\n",
    "idmmf = 0\n",
    "for idx, imagePath in tqdm(enumerate(image_pathes)):\n",
    "        frameGrowthingTracks = None\n",
    "        tracks, kp_lent_ornt_deltaXY_list, image_cv2, _frmTracks, frameGrowthingTracks = tracker.process_frame(imagePath, idx, desRec, isOnline = False)\n",
    "        cvFrame = tracker.update_cvFrame(tracks, image_cv2, _frmTracks, desRec, _isOnline = False)\n",
    "        plottingFrames.append(cvFrame)\n",
    "        kp_lent_ornt_deltaXY_dic[idx] = kp_lent_ornt_deltaXY_list\n",
    "        # print(len(tracks), len(frameGrowthingTracks), print(idmmf))\n",
    "        frameGrowthingTracksCopy = copy.deepcopy(frameGrowthingTracks)\n",
    "        frameGrowthingTracksList[idmmf] = frameGrowthingTracksCopy\n",
    "        idmmf = idmmf + 1"
   ]
  },
  {
   "cell_type": "code",
   "execution_count": null,
   "metadata": {},
   "outputs": [],
   "source": [
    "print(frameGrowthingTracksList[5].items())"
   ]
  },
  {
   "cell_type": "code",
   "execution_count": null,
   "metadata": {},
   "outputs": [],
   "source": [
    "for key, value in list(tracks.items()):\n",
    "    if len(value) < 2:\n",
    "        del tracks[key]"
   ]
  },
  {
   "cell_type": "code",
   "execution_count": null,
   "metadata": {},
   "outputs": [],
   "source": [
    "fourcc = cv2.VideoWriter_fourcc(*'mp4v')  # Use 'mp4v' for .mp4 format\n",
    "\n",
    "# Use the shape of the first image to get the frame size (width, height)\n",
    "frame_size = (plottingFrames[0].shape[1], plottingFrames[0].shape[0])\n",
    "\n",
    "# Create a VideoWriter object. Adjust FPS to your liking.\n",
    "out = cv2.VideoWriter('./results/orientation_paper/sift.mp4', fourcc, 2.0, frame_size)\n",
    "\n",
    "for i in range(len(plottingFrames)):\n",
    "    # Write the frame to the video\n",
    "    out.write(plottingFrames[i])\n",
    "\n",
    "# Release everything when job is finished\n",
    "out.release()\n",
    "\n",
    "# Optionally, display a message\n",
    "print(\"The video was successfully saved!\")"
   ]
  },
  {
   "cell_type": "code",
   "execution_count": null,
   "metadata": {},
   "outputs": [],
   "source": [
    "import xml.etree.ElementTree as ET\n",
    "import xml.dom.minidom\n",
    "\n",
    "root = ET.Element(\"root\")\n",
    "track_contest = ET.SubElement(root, \"TrackContestISBI2012\", SNR=\"7\", density=\"high\", \n",
    "                              generationDateTime=\"Mon Feb 13 20:41:59 CET 2012\", \n",
    "                              info=\"http://bioimageanalysis.org/track/\", scenario=\"RECEPTOR\")\n",
    "\n",
    "idx = 0\n",
    "for particle_id, detections in tracks.items():\n",
    "    # if idx >= 727:\n",
    "    #     break\n",
    "    particle_element = ET.SubElement(track_contest, \"particle\")\n",
    "    for detection in detections:\n",
    "        t, (x, y) = detection\n",
    "        # Format x and y with 3 decimal places\n",
    "        formatted_x = \"{:.3f}\".format(float(x))\n",
    "        formatted_y = \"{:.3f}\".format(float(y))\n",
    "        ET.SubElement(particle_element, \"detection\", t=str(t), x=formatted_x, y=formatted_y, z=\"0\")\n",
    "    idx +=1\n",
    "# Convert the ElementTree to a string and format it\n",
    "dom = xml.dom.minidom.parseString(ET.tostring(root, 'utf-8'))\n",
    "pretty_xml_as_string = dom.toprettyxml(indent=\"\")\n",
    "\n",
    "with open(\"./results/superpoint/superpoint_RECEPTOR_snr_7_density_high.xml\", \"w\") as f:\n",
    "    f.write(pretty_xml_as_string)"
   ]
  },
  {
   "cell_type": "markdown",
   "metadata": {},
   "source": [
    "#### investigate Orientation and Length Tracks"
   ]
  },
  {
   "cell_type": "code",
   "execution_count": null,
   "metadata": {},
   "outputs": [],
   "source": [
    "# kp_lent_ornt_dic_superpoint = kp_lent_ornt_deltaXY_dic\n",
    "# kp_lent_ornt_dic_disk = kp_lent_ornt_deltaXY_dic\n",
    "# kp_lent_ornt_dic_aliked = kp_lent_ornt_deltaXY_dic\n",
    "kp_lent_ornt_dic_sift = kp_lent_ornt_deltaXY_dic\n",
    "\n",
    "import json\n",
    "\n",
    "# Save to file\n",
    "with open('./results/orientation_paper/kp_lent_ornt_dic_aliked_win.json', 'w') as f:\n",
    "    json.dump(kp_lent_ornt_dic_sift, f)\n",
    "\n",
    "import json\n",
    "\n",
    "# Retrieve from file\n",
    "with open('./results/orientation_paper/kp_lent_ornt_dic_aliked.json', 'r') as f:\n",
    "    kp_lent_ornt_deltaXY_dic = json.load(f)"
   ]
  },
  {
   "cell_type": "code",
   "execution_count": null,
   "metadata": {},
   "outputs": [
    {
     "name": "stdout",
     "output_type": "stream",
     "text": [
      "-778.2545634888864 44584.26243869016\n"
     ]
    },
    {
     "ename": "KeyError",
     "evalue": "slice(0, 49, None)",
     "output_type": "error",
     "traceback": [
      "\u001b[0;31m---------------------------------------------------------------------------\u001b[0m",
      "\u001b[0;31mKeyError\u001b[0m                                  Traceback (most recent call last)",
      "Cell \u001b[0;32mIn[3], line 8\u001b[0m\n\u001b[1;32m      5\u001b[0m sum_delta_x_list \u001b[38;5;241m=\u001b[39m []\n\u001b[1;32m      6\u001b[0m sum_delta_y_list \u001b[38;5;241m=\u001b[39m []\n\u001b[0;32m----> 8\u001b[0m \u001b[38;5;28;01mfor\u001b[39;00m i, (frmIdx, kp_lent_ornt_deltaXY_list) \u001b[38;5;129;01min\u001b[39;00m \u001b[38;5;28menumerate\u001b[39m(\u001b[43mkp_lent_ornt_deltaXY_dic\u001b[49m\u001b[43m[\u001b[49m\u001b[38;5;241;43m0\u001b[39;49m\u001b[43m:\u001b[49m\u001b[38;5;241;43m49\u001b[39;49m\u001b[43m]\u001b[49m\u001b[38;5;241m.\u001b[39mitems()):\n\u001b[1;32m      9\u001b[0m     \u001b[38;5;28;01mif\u001b[39;00m(\u001b[38;5;28mlen\u001b[39m(kp_lent_ornt_deltaXY_list) \u001b[38;5;241m==\u001b[39m \u001b[38;5;241m0\u001b[39m):\n\u001b[1;32m     10\u001b[0m         \u001b[38;5;28;01mcontinue\u001b[39;00m\n",
      "\u001b[0;31mKeyError\u001b[0m: slice(0, 49, None)"
     ]
    }
   ],
   "source": [
    "\n",
    "\n",
    "mean_ornt_list = []\n",
    "std_ornt_list = []\n",
    "mean_length_list = []\n",
    "std_length_list = []\n",
    "sum_delta_x_list = []\n",
    "sum_delta_y_list = []\n",
    "\n",
    "for i, (frmIdx, kp_lent_ornt_deltaXY_list) in enumerate(kp_lent_ornt_deltaXY_dic[0:49].items()):\n",
    "    if(len(kp_lent_ornt_deltaXY_list) == 0):\n",
    "        continue\n",
    "    # orientations = [item[1] for item in kp_lent_ornt_deltaXY_list]\n",
    "    # # Calculate the mean and standard deviation\n",
    "    # mean_orientation = np.mean(orientations)\n",
    "    # std_orientation = np.std(orientations)\n",
    "    # mean_ornt_list.append(mean_orientation)\n",
    "    # std_ornt_list.append(std_orientation)\n",
    "\n",
    "    # lengthes = [item[0]*5 for item in kp_lent_ornt_deltaXY_list]\n",
    "    # # Calculate the mean and standard deviation\n",
    "    # mean_length = np.mean(lengthes)\n",
    "    # std_length = np.std(lengthes)\n",
    "    # mean_length_list.append(mean_length)\n",
    "    # std_length_list.append(std_length)\n",
    "\n",
    "    delta_xes = [item[2]*5 for item in kp_lent_ornt_deltaXY_list]\n",
    "    delta_yes = [item[3]*5 for item in kp_lent_ornt_deltaXY_list]\n",
    "    sum_delta_x_list.append(np.mean(delta_xes))\n",
    "    sum_delta_y_list.append(np.mean(delta_yes))\n",
    "\n",
    "total_delta_x = np.sum(sum_delta_x_list)\n",
    "total_delta_y = np.sum(sum_delta_y_list)\n",
    "print(total_delta_x, total_delta_y)\n"
   ]
  },
  {
   "cell_type": "code",
   "execution_count": null,
   "metadata": {},
   "outputs": [],
   "source": [
    "import matplotlib.pyplot as plt\n",
    "\n",
    "# Plot the values\n",
    "plt.plot(list(range(len(mean_length_list))), mean_length_list)\n",
    "plt.show()"
   ]
  },
  {
   "cell_type": "code",
   "execution_count": null,
   "metadata": {},
   "outputs": [],
   "source": [
    "import numpy as np\n",
    "import matplotlib.pyplot as plt\n",
    "from scipy.ndimage import gaussian_filter1d\n",
    "import math\n",
    "# # Your signal with noise\n",
    "# signal = np.random.normal(0, 1, 1000) + np.linspace(0, 10, 1000)\n",
    "# Create an array of doubled indices\n",
    "doubled_indices = np.arange(len(mean_length_list)) * 2\n",
    "mean_ornt_list_degrees = [math.degrees(x) for x in mean_ornt_list]\n",
    "\n",
    "# Apply a Gaussian filter to remove noise\n",
    "smooth_signal = gaussian_filter1d(mean_ornt_list_degrees, 5)\n",
    "\n",
    "# Plot the original and smoothed signals\n",
    "plt.figure(figsize=(10, 6))\n",
    "plt.plot(doubled_indices, mean_ornt_list_degrees, label='Original Signal')\n",
    "plt.plot(doubled_indices, smooth_signal, label='Smoothed Signal', linewidth=4)\n",
    "\n",
    "plt.xlabel('Frame Index', fontsize=16)  # Corrected x-axis label for clarity\n",
    "plt.ylabel('Orientation (Degrees)', fontsize=16)  # Corrected y-axis label for clarity\n",
    "plt.title('Mean of Orientation and its Filtered Gaussian Signal', fontsize=16, fontweight='bold')  # Improved title for clarity\n",
    "\n",
    "plt.legend(fontsize=15, loc='upper left', ncol=4)\n",
    "plt.xticks(fontsize=16)\n",
    "plt.yticks(fontsize=16)\n",
    "\n",
    "# Save the figure as a PDF file\n",
    "plt.savefig('./results/orientation_paper/mean_gaussian.pdf', dpi=300)\n",
    "\n",
    "plt.show()"
   ]
  },
  {
   "cell_type": "code",
   "execution_count": null,
   "metadata": {},
   "outputs": [],
   "source": [
    "import numpy as np\n",
    "import matplotlib.pyplot as plt\n",
    "from scipy.ndimage import gaussian_filter1d\n",
    "import math\n",
    "\n",
    "# Create an array of doubled indices\n",
    "doubled_indices = np.arange(len(std_length_list)) * 2\n",
    "# Apply a Gaussian filter to remove noise\n",
    "smooth_signal = gaussian_filter1d(std_length_list, 5)\n",
    "\n",
    "# Plot the original and smoothed signals\n",
    "plt.figure(figsize=(10, 6))\n",
    "plt.plot(doubled_indices, std_length_list, label='Original Signal')\n",
    "plt.plot(doubled_indices, smooth_signal, label='Smoothed Signal', linewidth=4)\n",
    "\n",
    "plt.xlabel('Time (Seconds)', fontsize=16)  # Corrected x-axis label for clarity\n",
    "plt.ylabel('Standard Deviation of Track Length (nm)', fontsize=16)  # Corrected y-axis label for clarity\n",
    "plt.title('Standard Deviation of Track Length and its Filtered Gaussian Signal', fontsize=16, fontweight='bold')  # Improved title for clarity\n",
    "\n",
    "plt.legend(fontsize=15, loc='upper left', ncol=4)\n",
    "plt.xticks(fontsize=16)\n",
    "plt.yticks(fontsize=16)\n",
    "\n",
    "# Save the figure as a PDF file\n",
    "plt.savefig('./results/orientation_paper/std_length_gaussian.pdf', dpi=300)\n",
    "\n",
    "plt.show()"
   ]
  },
  {
   "cell_type": "markdown",
   "metadata": {},
   "source": [
    "### plot growing tracks"
   ]
  },
  {
   "cell_type": "code",
   "execution_count": 5,
   "metadata": {},
   "outputs": [
    {
     "data": {
      "image/png": "[encoded data removed]",
      "text/plain": [
       "<Figure size 640x480 with 1 Axes>"
      ]
     },
     "metadata": {},
     "output_type": "display_data"
    }
   ],
   "source": [
    "import numpy as np\n",
    "import cv2\n",
    "import matplotlib.pyplot as plt\n",
    "\n",
    "trackColors = tracker.generate_manual_colors()\n",
    "_cvFrame = np.ones((10300, 2000, 3), dtype=np.uint8) * 255\n",
    "frameGrowthingTracks = frameGrowthingTracksList[499]\n",
    "for _idx, (trackId, frm_keypoints) in enumerate(frameGrowthingTracks.items()):\n",
    "\n",
    "    if len(frm_keypoints) >= 2:\n",
    "        color = trackColors[trackId % len(trackColors)]\n",
    "        # color = (0,0,0)\n",
    "        # Iterate until the second-to-last item to avoid IndexError\n",
    "        for idx in range(len(frm_keypoints) - 1):\n",
    "            startPoint = tracker.toInt(frm_keypoints[idx][1])\n",
    "            endPoint = tracker.toInt(frm_keypoints[idx + 1][1])\n",
    "            startPoint = (startPoint[0], _cvFrame.shape[0] - startPoint[1])\n",
    "            endPoint = (endPoint[0], _cvFrame.shape[0] - endPoint[1])\n",
    "            # Draw line for all but the last point, where a circle will be drawn\n",
    "            cv2.line(_cvFrame, startPoint, endPoint, color, 2)\n",
    "            \n",
    "        # # Draw a circle at the last point\n",
    "        # lastPoint = tracker.toInt(frm_keypoints[-1][1])\n",
    "        # cv2.circle(_cvFrame, lastPoint, 3, color, -1)\n",
    "# Convert the image from BGR to RGB\n",
    "image = cv2.cvtColor(_cvFrame, cv2.COLOR_BGR2RGB)\n",
    "\n",
    "# Display the image with plt\n",
    "fig = plt.figure()\n",
    "plt.axis('off')\n",
    "\n",
    "plt.imshow(image)\n",
    "# Invert the y-axis\n",
    "# plt.gca().invert_yaxis()\n",
    "plt.show()\n",
    "fig.savefig('results/image_323_50.png', dpi=300)\n",
    "# Save the image\n",
    "# plt.imsave('image.png', image)"
   ]
  },
  {
   "cell_type": "code",
   "execution_count": null,
   "metadata": {},
   "outputs": [],
   "source": [
    "import cv2\n",
    "import numpy as np\n",
    "\n",
    "# Create a VideoWriter object\n",
    "fourcc = cv2.VideoWriter_fourcc(*'mp4v')  # or use 'XVID'\n",
    "out = cv2.VideoWriter('output_314.mp4', fourcc, 2.0, (3000, 3000))\n",
    "\n",
    "# Create 10 white frames and write them to the video\n",
    "for id, frameGrowthingTracks in enumerate(frameGrowthingTracksList):\n",
    "    frameGrowthingTracks = frameGrowthingTracksList[id]\n",
    "    frame = np.ones((3000, 3000, 3), dtype=np.uint8) * 255\n",
    "    for _idx, (trackId, frm_keypoints) in enumerate(frameGrowthingTracks.items()):\n",
    "\n",
    "        if len(frm_keypoints) >= 2:\n",
    "            # color = trackColors[trackId % len(trackColors)]\n",
    "            color = (0,0,0)  # Overriding color to black\n",
    "\n",
    "            for idx in range(len(frm_keypoints) - 1):\n",
    "                startPoint = tracker.toInt(frm_keypoints[idx][1])\n",
    "                endPoint = tracker.toInt(frm_keypoints[idx + 1][1])\n",
    "                startPoint = (startPoint[0], frame.shape[0] - startPoint[1])\n",
    "                endPoint = (endPoint[0], frame.shape[0] - endPoint[1])\n",
    "                cv2.line(frame, startPoint, endPoint, color, 2)\n",
    "\n",
    "    out.write(frame)\n",
    "\n",
    "\n",
    "# Release the VideoWriter\n",
    "out.release()"
   ]
  },
  {
   "cell_type": "code",
   "execution_count": null,
   "metadata": {},
   "outputs": [],
   "source": [
    "import moviepy.editor as mp\n",
    "\n",
    "# Load the original video\n",
    "video = mp.VideoFileClip(\"output_314.mp4\")\n",
    "\n",
    "# Reduce the size by reducing the resolution (here, we reduce the width to 480px and maintain aspect ratio)\n",
    "target_width = 480\n",
    "aspect_ratio = video.size[1] / video.size[0]\n",
    "target_height = round(target_width * aspect_ratio)\n",
    "\n",
    "# Resize the video\n",
    "resized_video = video.resize(newsize=(target_width, target_height))\n",
    "\n",
    "# Write the resized video to a file\n",
    "resized_video.write_videofile(\"resized_video.mp4\")"
   ]
  },
  {
   "cell_type": "code",
   "execution_count": null,
   "metadata": {},
   "outputs": [],
   "source": [
    "import os\n",
    "\n",
    "# Specify the directory containing the images\n",
    "directory = \"exp2_gf_clahe/\"\n",
    "\n",
    "# Loop through all files in the directory\n",
    "for filename in os.listdir(directory):\n",
    "    if filename.endswith(\".tif\"):  # Check if the file is a .tif image\n",
    "        # Split the filename on spaces and take the last part\n",
    "        new_name = filename.split()[-1]\n",
    "        # Construct the full old and new file paths\n",
    "        old_file = os.path.join(directory, filename)\n",
    "        new_file = os.path.join(directory, new_name)\n",
    "        # Rename the file\n",
    "        os.rename(old_file, new_file)\n",
    "        print(f\"Renamed '{filename}' to '{new_name}'\")\n",
    "\n",
    "print(\"Renaming complete.\")"
   ]
  }
 ],
 "metadata": {
  "kernelspec": {
   "display_name": "Python 3",
   "language": "python",
   "name": "python3"
  },
  "language_info": {
   "codemirror_mode": {
    "name": "ipython",
    "version": 3
   },
   "file_extension": ".py",
   "mimetype": "text/x-python",
   "name": "python",
   "nbconvert_exporter": "python",
   "pygments_lexer": "ipython3",
   "version": "3.12.0"
  }
 },
 "nbformat": 4,
 "nbformat_minor": 2
}
